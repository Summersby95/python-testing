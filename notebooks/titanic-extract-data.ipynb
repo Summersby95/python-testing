{
 "cells": [
  {
   "cell_type": "code",
   "execution_count": 7,
   "source": [
    "!pip install kaggle"
   ],
   "outputs": [
    {
     "output_type": "stream",
     "name": "stdout",
     "text": [
      "Collecting kaggle\n",
      "  Downloading kaggle-1.5.12.tar.gz (58 kB)\n",
      "Requirement already satisfied: six>=1.10 in c:\\users\\jamessummersby\\anaconda3\\lib\\site-packages (from kaggle) (1.15.0)\n",
      "Requirement already satisfied: certifi in c:\\users\\jamessummersby\\anaconda3\\lib\\site-packages (from kaggle) (2020.12.5)\n",
      "Requirement already satisfied: python-dateutil in c:\\users\\jamessummersby\\anaconda3\\lib\\site-packages (from kaggle) (2.8.1)\n",
      "Requirement already satisfied: requests in c:\\users\\jamessummersby\\anaconda3\\lib\\site-packages (from kaggle) (2.25.1)\n",
      "Requirement already satisfied: tqdm in c:\\users\\jamessummersby\\anaconda3\\lib\\site-packages (from kaggle) (4.59.0)\n",
      "Requirement already satisfied: python-slugify in c:\\users\\jamessummersby\\anaconda3\\lib\\site-packages (from kaggle) (5.0.2)\n",
      "Requirement already satisfied: urllib3 in c:\\users\\jamessummersby\\anaconda3\\lib\\site-packages (from kaggle) (1.26.4)\n",
      "Requirement already satisfied: text-unidecode>=1.3 in c:\\users\\jamessummersby\\anaconda3\\lib\\site-packages (from python-slugify->kaggle) (1.3)\n",
      "Requirement already satisfied: idna<3,>=2.5 in c:\\users\\jamessummersby\\anaconda3\\lib\\site-packages (from requests->kaggle) (2.10)\n",
      "Requirement already satisfied: chardet<5,>=3.0.2 in c:\\users\\jamessummersby\\anaconda3\\lib\\site-packages (from requests->kaggle) (4.0.0)\n",
      "Building wheels for collected packages: kaggle\n",
      "  Building wheel for kaggle (setup.py): started\n",
      "  Building wheel for kaggle (setup.py): finished with status 'done'\n",
      "  Created wheel for kaggle: filename=kaggle-1.5.12-py3-none-any.whl size=73053 sha256=10dc6803054ed4552a10e57bd1fd09731c8a6b61fb40454790e3e846865be2a6\n",
      "  Stored in directory: c:\\users\\jamessummersby\\appdata\\local\\pip\\cache\\wheels\\29\\da\\11\\144cc25aebdaeb4931b231e25fd34b394e6a5725cbb2f50106\n",
      "Successfully built kaggle\n",
      "Installing collected packages: kaggle\n",
      "Successfully installed kaggle-1.5.12\n"
     ]
    }
   ],
   "metadata": {}
  },
  {
   "cell_type": "code",
   "execution_count": 4,
   "source": [
    "!kaggle competitions download -c titanic -f train.csv -p ../data/raw/"
   ],
   "outputs": [
    {
     "output_type": "stream",
     "name": "stdout",
     "text": [
      "Downloading train.csv to ../data/raw\n",
      "\n"
     ]
    },
    {
     "output_type": "stream",
     "name": "stderr",
     "text": [
      "\n",
      "  0%|          | 0.00/59.8k [00:00<?, ?B/s]\n",
      "100%|██████████| 59.8k/59.8k [00:00<00:00, 10.3MB/s]\n"
     ]
    }
   ],
   "metadata": {}
  }
 ],
 "metadata": {
  "language_info": {
   "name": "python",
   "version": "3.8.8",
   "mimetype": "text/x-python",
   "codemirror_mode": {
    "name": "ipython",
    "version": 3
   },
   "pygments_lexer": "ipython3",
   "nbconvert_exporter": "python",
   "file_extension": ".py"
  },
  "kernelspec": {
   "name": "python3",
   "display_name": "Python 3.8.8 64-bit ('base': conda)"
  },
  "interpreter": {
   "hash": "c8bbfd8b45058a801218eb89ff62ec9f6cbc1fce4b527d0fdb1a8e5749fbfb3d"
  }
 },
 "nbformat": 4,
 "nbformat_minor": 5
}